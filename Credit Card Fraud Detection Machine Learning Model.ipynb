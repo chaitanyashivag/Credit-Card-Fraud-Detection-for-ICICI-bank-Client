{
 "cells": [
  {
   "cell_type": "markdown",
   "id": "b9eb446f",
   "metadata": {},
   "source": [
    "# All Necessary Libraries Importing"
   ]
  },
  {
   "cell_type": "code",
   "execution_count": 29,
   "id": "eb940fa2",
   "metadata": {},
   "outputs": [],
   "source": [
    "import os \n",
    "import warnings\n",
    "warnings.filterwarnings('ignore')\n",
    "#Packages related to data importing, manipulation, exploratory data #analysis, data understanding\n",
    "import numpy as np\n",
    "import pandas as pd\n",
    "import seaborn as sns\n",
    "from sklearn.model_selection import train_test_split, GridSearchCV\n",
    "from sklearn.linear_model import LogisticRegression\n",
    "from sklearn.neighbors import KNeighborsClassifier\n",
    "from sklearn.tree import DecisionTreeClassifier\n",
    "from sklearn.ensemble import RandomForestClassifier\n",
    "from xgboost import XGBClassifier\n",
    "from sklearn.metrics import accuracy_score, f1_score\n",
    "from sklearn.metrics import confusion_matrix\n",
    "from sklearn.metrics import classification_report"
   ]
  },
  {
   "cell_type": "code",
   "execution_count": 3,
   "id": "8dcf88fb",
   "metadata": {},
   "outputs": [],
   "source": [
    "df = pd.read_csv('creditcard.csv')"
   ]
  },
  {
   "cell_type": "code",
   "execution_count": 4,
   "id": "5a31f061",
   "metadata": {},
   "outputs": [],
   "source": [
    "df = df.sample(1000)"
   ]
  },
  {
   "cell_type": "code",
   "execution_count": 63,
   "id": "23af92a1",
   "metadata": {},
   "outputs": [],
   "source": [
    "df.to_csv('creditcarddata.csv')"
   ]
  },
  {
   "cell_type": "code",
   "execution_count": 5,
   "id": "579821da",
   "metadata": {},
   "outputs": [
    {
     "data": {
      "text/html": [
       "<div>\n",
       "<style scoped>\n",
       "    .dataframe tbody tr th:only-of-type {\n",
       "        vertical-align: middle;\n",
       "    }\n",
       "\n",
       "    .dataframe tbody tr th {\n",
       "        vertical-align: top;\n",
       "    }\n",
       "\n",
       "    .dataframe thead th {\n",
       "        text-align: right;\n",
       "    }\n",
       "</style>\n",
       "<table border=\"1\" class=\"dataframe\">\n",
       "  <thead>\n",
       "    <tr style=\"text-align: right;\">\n",
       "      <th></th>\n",
       "      <th>Time</th>\n",
       "      <th>V1</th>\n",
       "      <th>V2</th>\n",
       "      <th>V3</th>\n",
       "      <th>V4</th>\n",
       "      <th>V5</th>\n",
       "      <th>V6</th>\n",
       "      <th>V7</th>\n",
       "      <th>V8</th>\n",
       "      <th>V9</th>\n",
       "      <th>...</th>\n",
       "      <th>V21</th>\n",
       "      <th>V22</th>\n",
       "      <th>V23</th>\n",
       "      <th>V24</th>\n",
       "      <th>V25</th>\n",
       "      <th>V26</th>\n",
       "      <th>V27</th>\n",
       "      <th>V28</th>\n",
       "      <th>Amount</th>\n",
       "      <th>Class</th>\n",
       "    </tr>\n",
       "  </thead>\n",
       "  <tbody>\n",
       "    <tr>\n",
       "      <th>54841</th>\n",
       "      <td>46651.0</td>\n",
       "      <td>-1.098986</td>\n",
       "      <td>0.563793</td>\n",
       "      <td>2.074612</td>\n",
       "      <td>-0.249788</td>\n",
       "      <td>0.298288</td>\n",
       "      <td>-1.449490</td>\n",
       "      <td>0.814833</td>\n",
       "      <td>-0.200351</td>\n",
       "      <td>-0.774356</td>\n",
       "      <td>...</td>\n",
       "      <td>0.192768</td>\n",
       "      <td>0.365927</td>\n",
       "      <td>-0.191274</td>\n",
       "      <td>0.975469</td>\n",
       "      <td>0.524592</td>\n",
       "      <td>0.307193</td>\n",
       "      <td>-0.037156</td>\n",
       "      <td>0.070582</td>\n",
       "      <td>33.95</td>\n",
       "      <td>0</td>\n",
       "    </tr>\n",
       "    <tr>\n",
       "      <th>234203</th>\n",
       "      <td>147875.0</td>\n",
       "      <td>2.030665</td>\n",
       "      <td>-1.284088</td>\n",
       "      <td>-0.350092</td>\n",
       "      <td>-0.648034</td>\n",
       "      <td>-1.094409</td>\n",
       "      <td>0.596207</td>\n",
       "      <td>-1.481704</td>\n",
       "      <td>0.348424</td>\n",
       "      <td>0.278129</td>\n",
       "      <td>...</td>\n",
       "      <td>-0.343596</td>\n",
       "      <td>-0.585240</td>\n",
       "      <td>0.342592</td>\n",
       "      <td>0.034571</td>\n",
       "      <td>-0.698399</td>\n",
       "      <td>0.449164</td>\n",
       "      <td>-0.013531</td>\n",
       "      <td>-0.039869</td>\n",
       "      <td>44.48</td>\n",
       "      <td>0</td>\n",
       "    </tr>\n",
       "    <tr>\n",
       "      <th>208786</th>\n",
       "      <td>137271.0</td>\n",
       "      <td>-0.983553</td>\n",
       "      <td>-0.256356</td>\n",
       "      <td>-1.241460</td>\n",
       "      <td>-3.004517</td>\n",
       "      <td>2.541132</td>\n",
       "      <td>3.037907</td>\n",
       "      <td>-0.647275</td>\n",
       "      <td>1.402495</td>\n",
       "      <td>-1.374066</td>\n",
       "      <td>...</td>\n",
       "      <td>-0.148076</td>\n",
       "      <td>-1.036583</td>\n",
       "      <td>0.242592</td>\n",
       "      <td>0.532417</td>\n",
       "      <td>-0.579122</td>\n",
       "      <td>-0.796942</td>\n",
       "      <td>0.038905</td>\n",
       "      <td>0.040556</td>\n",
       "      <td>39.99</td>\n",
       "      <td>0</td>\n",
       "    </tr>\n",
       "    <tr>\n",
       "      <th>206955</th>\n",
       "      <td>136457.0</td>\n",
       "      <td>2.181918</td>\n",
       "      <td>-1.763776</td>\n",
       "      <td>0.324993</td>\n",
       "      <td>-1.432050</td>\n",
       "      <td>-2.249641</td>\n",
       "      <td>-0.263386</td>\n",
       "      <td>-2.009606</td>\n",
       "      <td>0.039805</td>\n",
       "      <td>-0.455541</td>\n",
       "      <td>...</td>\n",
       "      <td>0.074466</td>\n",
       "      <td>0.749001</td>\n",
       "      <td>0.230948</td>\n",
       "      <td>-0.107801</td>\n",
       "      <td>-0.509214</td>\n",
       "      <td>-0.086630</td>\n",
       "      <td>0.079178</td>\n",
       "      <td>-0.022336</td>\n",
       "      <td>38.00</td>\n",
       "      <td>0</td>\n",
       "    </tr>\n",
       "    <tr>\n",
       "      <th>173248</th>\n",
       "      <td>121403.0</td>\n",
       "      <td>-1.472078</td>\n",
       "      <td>-0.499550</td>\n",
       "      <td>-0.571935</td>\n",
       "      <td>-3.348055</td>\n",
       "      <td>2.083377</td>\n",
       "      <td>3.451347</td>\n",
       "      <td>-0.497001</td>\n",
       "      <td>1.573490</td>\n",
       "      <td>0.782681</td>\n",
       "      <td>...</td>\n",
       "      <td>0.326733</td>\n",
       "      <td>0.571447</td>\n",
       "      <td>0.056379</td>\n",
       "      <td>0.759785</td>\n",
       "      <td>-0.092253</td>\n",
       "      <td>0.546324</td>\n",
       "      <td>0.194660</td>\n",
       "      <td>0.056214</td>\n",
       "      <td>102.00</td>\n",
       "      <td>0</td>\n",
       "    </tr>\n",
       "    <tr>\n",
       "      <th>...</th>\n",
       "      <td>...</td>\n",
       "      <td>...</td>\n",
       "      <td>...</td>\n",
       "      <td>...</td>\n",
       "      <td>...</td>\n",
       "      <td>...</td>\n",
       "      <td>...</td>\n",
       "      <td>...</td>\n",
       "      <td>...</td>\n",
       "      <td>...</td>\n",
       "      <td>...</td>\n",
       "      <td>...</td>\n",
       "      <td>...</td>\n",
       "      <td>...</td>\n",
       "      <td>...</td>\n",
       "      <td>...</td>\n",
       "      <td>...</td>\n",
       "      <td>...</td>\n",
       "      <td>...</td>\n",
       "      <td>...</td>\n",
       "      <td>...</td>\n",
       "    </tr>\n",
       "    <tr>\n",
       "      <th>206640</th>\n",
       "      <td>136295.0</td>\n",
       "      <td>2.035171</td>\n",
       "      <td>-0.431419</td>\n",
       "      <td>-0.640399</td>\n",
       "      <td>0.313809</td>\n",
       "      <td>-0.417462</td>\n",
       "      <td>-0.191723</td>\n",
       "      <td>-0.619855</td>\n",
       "      <td>0.008043</td>\n",
       "      <td>1.505155</td>\n",
       "      <td>...</td>\n",
       "      <td>0.228249</td>\n",
       "      <td>0.893057</td>\n",
       "      <td>-0.006362</td>\n",
       "      <td>-0.754281</td>\n",
       "      <td>0.038126</td>\n",
       "      <td>-0.087299</td>\n",
       "      <td>0.036244</td>\n",
       "      <td>-0.048266</td>\n",
       "      <td>6.24</td>\n",
       "      <td>0</td>\n",
       "    </tr>\n",
       "    <tr>\n",
       "      <th>96260</th>\n",
       "      <td>65690.0</td>\n",
       "      <td>1.219830</td>\n",
       "      <td>0.446352</td>\n",
       "      <td>-0.009583</td>\n",
       "      <td>1.040637</td>\n",
       "      <td>-0.017739</td>\n",
       "      <td>-0.989236</td>\n",
       "      <td>0.443639</td>\n",
       "      <td>-0.213455</td>\n",
       "      <td>-0.530711</td>\n",
       "      <td>...</td>\n",
       "      <td>0.066327</td>\n",
       "      <td>0.204903</td>\n",
       "      <td>-0.130716</td>\n",
       "      <td>0.552649</td>\n",
       "      <td>0.790569</td>\n",
       "      <td>-0.326023</td>\n",
       "      <td>-0.012399</td>\n",
       "      <td>0.002519</td>\n",
       "      <td>1.49</td>\n",
       "      <td>0</td>\n",
       "    </tr>\n",
       "    <tr>\n",
       "      <th>270852</th>\n",
       "      <td>164289.0</td>\n",
       "      <td>-1.283188</td>\n",
       "      <td>-0.804506</td>\n",
       "      <td>0.927490</td>\n",
       "      <td>-2.188504</td>\n",
       "      <td>-1.009692</td>\n",
       "      <td>-0.169066</td>\n",
       "      <td>-0.254183</td>\n",
       "      <td>0.667273</td>\n",
       "      <td>-0.942552</td>\n",
       "      <td>...</td>\n",
       "      <td>0.639430</td>\n",
       "      <td>1.086196</td>\n",
       "      <td>0.073276</td>\n",
       "      <td>-0.434036</td>\n",
       "      <td>0.058016</td>\n",
       "      <td>-0.135106</td>\n",
       "      <td>-0.080007</td>\n",
       "      <td>-0.010648</td>\n",
       "      <td>173.00</td>\n",
       "      <td>0</td>\n",
       "    </tr>\n",
       "    <tr>\n",
       "      <th>177280</th>\n",
       "      <td>123112.0</td>\n",
       "      <td>-1.611292</td>\n",
       "      <td>0.695670</td>\n",
       "      <td>0.412745</td>\n",
       "      <td>-1.111688</td>\n",
       "      <td>1.220988</td>\n",
       "      <td>0.945053</td>\n",
       "      <td>0.634126</td>\n",
       "      <td>0.685572</td>\n",
       "      <td>-0.666157</td>\n",
       "      <td>...</td>\n",
       "      <td>0.430810</td>\n",
       "      <td>1.091967</td>\n",
       "      <td>-0.503192</td>\n",
       "      <td>-0.265748</td>\n",
       "      <td>0.867567</td>\n",
       "      <td>0.672986</td>\n",
       "      <td>-0.239291</td>\n",
       "      <td>-0.069631</td>\n",
       "      <td>59.00</td>\n",
       "      <td>0</td>\n",
       "    </tr>\n",
       "    <tr>\n",
       "      <th>52798</th>\n",
       "      <td>45648.0</td>\n",
       "      <td>1.239543</td>\n",
       "      <td>-1.277164</td>\n",
       "      <td>0.412040</td>\n",
       "      <td>-1.430690</td>\n",
       "      <td>-0.951928</td>\n",
       "      <td>0.833692</td>\n",
       "      <td>-1.204802</td>\n",
       "      <td>0.331163</td>\n",
       "      <td>-1.858793</td>\n",
       "      <td>...</td>\n",
       "      <td>-0.053701</td>\n",
       "      <td>0.296053</td>\n",
       "      <td>0.173400</td>\n",
       "      <td>-0.650405</td>\n",
       "      <td>0.009044</td>\n",
       "      <td>-0.101583</td>\n",
       "      <td>0.093538</td>\n",
       "      <td>0.015528</td>\n",
       "      <td>50.00</td>\n",
       "      <td>0</td>\n",
       "    </tr>\n",
       "  </tbody>\n",
       "</table>\n",
       "<p>1000 rows × 31 columns</p>\n",
       "</div>"
      ],
      "text/plain": [
       "            Time        V1        V2        V3        V4        V5        V6  \\\n",
       "54841    46651.0 -1.098986  0.563793  2.074612 -0.249788  0.298288 -1.449490   \n",
       "234203  147875.0  2.030665 -1.284088 -0.350092 -0.648034 -1.094409  0.596207   \n",
       "208786  137271.0 -0.983553 -0.256356 -1.241460 -3.004517  2.541132  3.037907   \n",
       "206955  136457.0  2.181918 -1.763776  0.324993 -1.432050 -2.249641 -0.263386   \n",
       "173248  121403.0 -1.472078 -0.499550 -0.571935 -3.348055  2.083377  3.451347   \n",
       "...          ...       ...       ...       ...       ...       ...       ...   \n",
       "206640  136295.0  2.035171 -0.431419 -0.640399  0.313809 -0.417462 -0.191723   \n",
       "96260    65690.0  1.219830  0.446352 -0.009583  1.040637 -0.017739 -0.989236   \n",
       "270852  164289.0 -1.283188 -0.804506  0.927490 -2.188504 -1.009692 -0.169066   \n",
       "177280  123112.0 -1.611292  0.695670  0.412745 -1.111688  1.220988  0.945053   \n",
       "52798    45648.0  1.239543 -1.277164  0.412040 -1.430690 -0.951928  0.833692   \n",
       "\n",
       "              V7        V8        V9  ...       V21       V22       V23  \\\n",
       "54841   0.814833 -0.200351 -0.774356  ...  0.192768  0.365927 -0.191274   \n",
       "234203 -1.481704  0.348424  0.278129  ... -0.343596 -0.585240  0.342592   \n",
       "208786 -0.647275  1.402495 -1.374066  ... -0.148076 -1.036583  0.242592   \n",
       "206955 -2.009606  0.039805 -0.455541  ...  0.074466  0.749001  0.230948   \n",
       "173248 -0.497001  1.573490  0.782681  ...  0.326733  0.571447  0.056379   \n",
       "...          ...       ...       ...  ...       ...       ...       ...   \n",
       "206640 -0.619855  0.008043  1.505155  ...  0.228249  0.893057 -0.006362   \n",
       "96260   0.443639 -0.213455 -0.530711  ...  0.066327  0.204903 -0.130716   \n",
       "270852 -0.254183  0.667273 -0.942552  ...  0.639430  1.086196  0.073276   \n",
       "177280  0.634126  0.685572 -0.666157  ...  0.430810  1.091967 -0.503192   \n",
       "52798  -1.204802  0.331163 -1.858793  ... -0.053701  0.296053  0.173400   \n",
       "\n",
       "             V24       V25       V26       V27       V28  Amount  Class  \n",
       "54841   0.975469  0.524592  0.307193 -0.037156  0.070582   33.95      0  \n",
       "234203  0.034571 -0.698399  0.449164 -0.013531 -0.039869   44.48      0  \n",
       "208786  0.532417 -0.579122 -0.796942  0.038905  0.040556   39.99      0  \n",
       "206955 -0.107801 -0.509214 -0.086630  0.079178 -0.022336   38.00      0  \n",
       "173248  0.759785 -0.092253  0.546324  0.194660  0.056214  102.00      0  \n",
       "...          ...       ...       ...       ...       ...     ...    ...  \n",
       "206640 -0.754281  0.038126 -0.087299  0.036244 -0.048266    6.24      0  \n",
       "96260   0.552649  0.790569 -0.326023 -0.012399  0.002519    1.49      0  \n",
       "270852 -0.434036  0.058016 -0.135106 -0.080007 -0.010648  173.00      0  \n",
       "177280 -0.265748  0.867567  0.672986 -0.239291 -0.069631   59.00      0  \n",
       "52798  -0.650405  0.009044 -0.101583  0.093538  0.015528   50.00      0  \n",
       "\n",
       "[1000 rows x 31 columns]"
      ]
     },
     "execution_count": 5,
     "metadata": {},
     "output_type": "execute_result"
    }
   ],
   "source": [
    "df"
   ]
  },
  {
   "cell_type": "code",
   "execution_count": 6,
   "id": "d7654fed",
   "metadata": {},
   "outputs": [
    {
     "data": {
      "text/plain": [
       "0    998\n",
       "1      2\n",
       "Name: Class, dtype: int64"
      ]
     },
     "execution_count": 6,
     "metadata": {},
     "output_type": "execute_result"
    }
   ],
   "source": [
    "df['Class'].value_counts()"
   ]
  },
  {
   "cell_type": "markdown",
   "id": "7987d646",
   "metadata": {},
   "source": [
    "Only 2 Transactions are Fraudulent"
   ]
  },
  {
   "cell_type": "code",
   "execution_count": 7,
   "id": "c2dc13b0",
   "metadata": {},
   "outputs": [
    {
     "name": "stdout",
     "output_type": "stream",
     "text": [
      "<class 'pandas.core.frame.DataFrame'>\n",
      "Int64Index: 1000 entries, 54841 to 52798\n",
      "Data columns (total 31 columns):\n",
      " #   Column  Non-Null Count  Dtype  \n",
      "---  ------  --------------  -----  \n",
      " 0   Time    1000 non-null   float64\n",
      " 1   V1      1000 non-null   float64\n",
      " 2   V2      1000 non-null   float64\n",
      " 3   V3      1000 non-null   float64\n",
      " 4   V4      1000 non-null   float64\n",
      " 5   V5      1000 non-null   float64\n",
      " 6   V6      1000 non-null   float64\n",
      " 7   V7      1000 non-null   float64\n",
      " 8   V8      1000 non-null   float64\n",
      " 9   V9      1000 non-null   float64\n",
      " 10  V10     1000 non-null   float64\n",
      " 11  V11     1000 non-null   float64\n",
      " 12  V12     1000 non-null   float64\n",
      " 13  V13     1000 non-null   float64\n",
      " 14  V14     1000 non-null   float64\n",
      " 15  V15     1000 non-null   float64\n",
      " 16  V16     1000 non-null   float64\n",
      " 17  V17     1000 non-null   float64\n",
      " 18  V18     1000 non-null   float64\n",
      " 19  V19     1000 non-null   float64\n",
      " 20  V20     1000 non-null   float64\n",
      " 21  V21     1000 non-null   float64\n",
      " 22  V22     1000 non-null   float64\n",
      " 23  V23     1000 non-null   float64\n",
      " 24  V24     1000 non-null   float64\n",
      " 25  V25     1000 non-null   float64\n",
      " 26  V26     1000 non-null   float64\n",
      " 27  V27     1000 non-null   float64\n",
      " 28  V28     1000 non-null   float64\n",
      " 29  Amount  1000 non-null   float64\n",
      " 30  Class   1000 non-null   int64  \n",
      "dtypes: float64(30), int64(1)\n",
      "memory usage: 250.0 KB\n"
     ]
    }
   ],
   "source": [
    "df.info()"
   ]
  },
  {
   "cell_type": "markdown",
   "id": "e9008ba9",
   "metadata": {},
   "source": [
    "All 28 Features are Transformed via PCA"
   ]
  },
  {
   "cell_type": "markdown",
   "id": "9df10e2e",
   "metadata": {},
   "source": [
    "# Data processing"
   ]
  },
  {
   "cell_type": "code",
   "execution_count": 10,
   "id": "273b2587",
   "metadata": {},
   "outputs": [],
   "source": [
    "from sklearn.preprocessing import StandardScaler\n",
    "sc = StandardScaler()\n",
    "amount = df['Amount'].values\n",
    "df['Amount'] = sc.fit_transform(amount.reshape(-1, 1))"
   ]
  },
  {
   "cell_type": "code",
   "execution_count": 11,
   "id": "4b1631f1",
   "metadata": {},
   "outputs": [
    {
     "data": {
      "text/plain": [
       "(1000, 31)"
      ]
     },
     "execution_count": 11,
     "metadata": {},
     "output_type": "execute_result"
    }
   ],
   "source": [
    "df.shape"
   ]
  },
  {
   "cell_type": "code",
   "execution_count": 12,
   "id": "30645eaf",
   "metadata": {},
   "outputs": [],
   "source": [
    "df.drop_duplicates(inplace=True)"
   ]
  },
  {
   "cell_type": "code",
   "execution_count": 13,
   "id": "ddb991ad",
   "metadata": {},
   "outputs": [
    {
     "data": {
      "text/plain": [
       "(1000, 31)"
      ]
     },
     "execution_count": 13,
     "metadata": {},
     "output_type": "execute_result"
    }
   ],
   "source": [
    "df.shape"
   ]
  },
  {
   "cell_type": "markdown",
   "id": "17bc75b3",
   "metadata": {},
   "source": [
    "# Train & Test Split"
   ]
  },
  {
   "cell_type": "code",
   "execution_count": 15,
   "id": "86302ce4",
   "metadata": {},
   "outputs": [],
   "source": [
    "X = df.drop('Class', axis = 1).values\n",
    "y = df['Class'].values\n",
    "X_train, X_test, y_train, y_test = train_test_split(X, y, test_size = 0.25, random_state = 1)"
   ]
  },
  {
   "cell_type": "markdown",
   "id": "d2067c3c",
   "metadata": {},
   "source": [
    "# Building Machine Learning Models"
   ]
  },
  {
   "cell_type": "markdown",
   "id": "5476eca4",
   "metadata": {},
   "source": [
    "## Decision Tree Classifier"
   ]
  },
  {
   "cell_type": "code",
   "execution_count": 16,
   "id": "8e33d55d",
   "metadata": {},
   "outputs": [],
   "source": [
    "DT = DecisionTreeClassifier(max_depth = 4, criterion = 'entropy')\n",
    "DT.fit(X_train, y_train)\n",
    "dt_yhat = DT.predict(X_test)"
   ]
  },
  {
   "cell_type": "code",
   "execution_count": 27,
   "id": "7bd1ac35",
   "metadata": {},
   "outputs": [
    {
     "name": "stdout",
     "output_type": "stream",
     "text": [
      "Accuracy score of the Decision Tree model is 0.996\n"
     ]
    }
   ],
   "source": [
    "print('Accuracy score of the Decision Tree model is {}'.format(accuracy_score(y_test, dt_yhat)))"
   ]
  },
  {
   "cell_type": "code",
   "execution_count": 25,
   "id": "bef90959",
   "metadata": {},
   "outputs": [
    {
     "data": {
      "text/plain": [
       "array([[249,   0],\n",
       "       [  1,   0]], dtype=int64)"
      ]
     },
     "execution_count": 25,
     "metadata": {},
     "output_type": "execute_result"
    }
   ],
   "source": [
    "confusion_matrix(y_test, dt_yhat, labels = [0, 1])"
   ]
  },
  {
   "cell_type": "code",
   "execution_count": 26,
   "id": "4eeea8c1",
   "metadata": {},
   "outputs": [
    {
     "name": "stdout",
     "output_type": "stream",
     "text": [
      "F1 score of the Decision Tree model is 0.0\n"
     ]
    }
   ],
   "source": [
    "print('F1 score of the Decision Tree model is {}'.format(f1_score(y_test, dt_yhat)))"
   ]
  },
  {
   "cell_type": "code",
   "execution_count": 30,
   "id": "ab39860b",
   "metadata": {},
   "outputs": [
    {
     "name": "stdout",
     "output_type": "stream",
     "text": [
      "              precision    recall  f1-score   support\n",
      "\n",
      "           0       1.00      1.00      1.00       249\n",
      "           1       0.00      0.00      0.00         1\n",
      "\n",
      "    accuracy                           1.00       250\n",
      "   macro avg       0.50      0.50      0.50       250\n",
      "weighted avg       0.99      1.00      0.99       250\n",
      "\n"
     ]
    }
   ],
   "source": [
    "print(classification_report(y_test,dt_yhat))"
   ]
  },
  {
   "cell_type": "markdown",
   "id": "b31141db",
   "metadata": {},
   "source": [
    "## K-Nearest Neighbors"
   ]
  },
  {
   "cell_type": "code",
   "execution_count": 31,
   "id": "49d818c5",
   "metadata": {},
   "outputs": [],
   "source": [
    "n = 7\n",
    "KNN = KNeighborsClassifier(n_neighbors = n)\n",
    "KNN.fit(X_train, y_train)\n",
    "knn_yhat = KNN.predict(X_test)"
   ]
  },
  {
   "cell_type": "code",
   "execution_count": 32,
   "id": "17f4ae6e",
   "metadata": {},
   "outputs": [
    {
     "name": "stdout",
     "output_type": "stream",
     "text": [
      "Accuracy score of the K-Nearest Neighbors model is 0.996\n"
     ]
    }
   ],
   "source": [
    "print('Accuracy score of the K-Nearest Neighbors model is {}'.format(accuracy_score(y_test, knn_yhat)))"
   ]
  },
  {
   "cell_type": "code",
   "execution_count": 33,
   "id": "b0cd92bd",
   "metadata": {},
   "outputs": [
    {
     "name": "stdout",
     "output_type": "stream",
     "text": [
      "F1 score of the K-Nearest Neighbors model is 0.0\n"
     ]
    }
   ],
   "source": [
    "print('F1 score of the K-Nearest Neighbors model is {}'.format(f1_score(y_test, knn_yhat)))"
   ]
  },
  {
   "cell_type": "code",
   "execution_count": 34,
   "id": "ae572512",
   "metadata": {},
   "outputs": [
    {
     "name": "stdout",
     "output_type": "stream",
     "text": [
      "              precision    recall  f1-score   support\n",
      "\n",
      "           0       1.00      1.00      1.00       249\n",
      "           1       0.00      0.00      0.00         1\n",
      "\n",
      "    accuracy                           1.00       250\n",
      "   macro avg       0.50      0.50      0.50       250\n",
      "weighted avg       0.99      1.00      0.99       250\n",
      "\n"
     ]
    }
   ],
   "source": [
    "print(classification_report(y_test,knn_yhat))"
   ]
  },
  {
   "cell_type": "markdown",
   "id": "f91d58be",
   "metadata": {},
   "source": [
    "## Logistic Regression"
   ]
  },
  {
   "cell_type": "code",
   "execution_count": 35,
   "id": "bfe04112",
   "metadata": {},
   "outputs": [],
   "source": [
    "lr = LogisticRegression()\n",
    "lr.fit(X_train, y_train)\n",
    "lr_yhat = lr.predict(X_test)"
   ]
  },
  {
   "cell_type": "code",
   "execution_count": 36,
   "id": "cfa095ff",
   "metadata": {},
   "outputs": [
    {
     "name": "stdout",
     "output_type": "stream",
     "text": [
      "Accuracy score of the Logistic Regression model is 0.996\n"
     ]
    }
   ],
   "source": [
    "print('Accuracy score of the Logistic Regression model is {}'.format(accuracy_score(y_test, lr_yhat)))"
   ]
  },
  {
   "cell_type": "code",
   "execution_count": 37,
   "id": "59e159f7",
   "metadata": {},
   "outputs": [
    {
     "name": "stdout",
     "output_type": "stream",
     "text": [
      "F1 score of the Logistic Regression model is 0.0\n"
     ]
    }
   ],
   "source": [
    "print('F1 score of the Logistic Regression model is {}'.format(f1_score(y_test, lr_yhat)))"
   ]
  },
  {
   "cell_type": "code",
   "execution_count": 38,
   "id": "3ce4bf52",
   "metadata": {},
   "outputs": [
    {
     "name": "stdout",
     "output_type": "stream",
     "text": [
      "              precision    recall  f1-score   support\n",
      "\n",
      "           0       1.00      1.00      1.00       249\n",
      "           1       0.00      0.00      0.00         1\n",
      "\n",
      "    accuracy                           1.00       250\n",
      "   macro avg       0.50      0.50      0.50       250\n",
      "weighted avg       0.99      1.00      0.99       250\n",
      "\n"
     ]
    }
   ],
   "source": [
    "print(classification_report(y_test,lr_yhat))"
   ]
  },
  {
   "cell_type": "markdown",
   "id": "f398cb3f",
   "metadata": {},
   "source": [
    "## Support Vector Machines"
   ]
  },
  {
   "cell_type": "code",
   "execution_count": 40,
   "id": "667babaa",
   "metadata": {},
   "outputs": [],
   "source": [
    "from sklearn.svm import LinearSVC, LinearSVR, SVC, SVR\n",
    "svm = SVC()\n",
    "svm.fit(X_train, y_train)\n",
    "svm_yhat = svm.predict(X_test)"
   ]
  },
  {
   "cell_type": "code",
   "execution_count": 41,
   "id": "4f37174b",
   "metadata": {},
   "outputs": [
    {
     "name": "stdout",
     "output_type": "stream",
     "text": [
      "Accuracy score of the Logistic Regression model is 0.996\n"
     ]
    }
   ],
   "source": [
    "print('Accuracy score of the Logistic Regression model is {}'.format(accuracy_score(y_test, svm_yhat)))"
   ]
  },
  {
   "cell_type": "code",
   "execution_count": 42,
   "id": "4af10b18",
   "metadata": {},
   "outputs": [
    {
     "name": "stdout",
     "output_type": "stream",
     "text": [
      "F1 score of the Logistic Regression model is 0.0\n"
     ]
    }
   ],
   "source": [
    "print('F1 score of the Logistic Regression model is {}'.format(f1_score(y_test, svm_yhat)))"
   ]
  },
  {
   "cell_type": "code",
   "execution_count": 43,
   "id": "54df6c6b",
   "metadata": {},
   "outputs": [
    {
     "name": "stdout",
     "output_type": "stream",
     "text": [
      "              precision    recall  f1-score   support\n",
      "\n",
      "           0       1.00      1.00      1.00       249\n",
      "           1       0.00      0.00      0.00         1\n",
      "\n",
      "    accuracy                           1.00       250\n",
      "   macro avg       0.50      0.50      0.50       250\n",
      "weighted avg       0.99      1.00      0.99       250\n",
      "\n"
     ]
    }
   ],
   "source": [
    "print(classification_report(y_test,svm_yhat))"
   ]
  },
  {
   "cell_type": "markdown",
   "id": "80859bd4",
   "metadata": {},
   "source": [
    "## Random Forest"
   ]
  },
  {
   "cell_type": "code",
   "execution_count": 44,
   "id": "9a11ffc4",
   "metadata": {},
   "outputs": [],
   "source": [
    "rf = RandomForestClassifier(max_depth = 4)\n",
    "rf.fit(X_train, y_train)\n",
    "rf_yhat = rf.predict(X_test)"
   ]
  },
  {
   "cell_type": "code",
   "execution_count": 45,
   "id": "a8915195",
   "metadata": {},
   "outputs": [
    {
     "name": "stdout",
     "output_type": "stream",
     "text": [
      "Accuracy score of the Random Forest model is 0.996\n"
     ]
    }
   ],
   "source": [
    "print('Accuracy score of the Random Forest model is {}'.format(accuracy_score(y_test, rf_yhat)))"
   ]
  },
  {
   "cell_type": "code",
   "execution_count": 46,
   "id": "7de60821",
   "metadata": {},
   "outputs": [
    {
     "name": "stdout",
     "output_type": "stream",
     "text": [
      "F1 score of the Random Forest model is 0.0\n"
     ]
    }
   ],
   "source": [
    "print('F1 score of the Random Forest model is {}'.format(f1_score(y_test, rf_yhat)))"
   ]
  },
  {
   "cell_type": "code",
   "execution_count": 47,
   "id": "94f1225a",
   "metadata": {},
   "outputs": [
    {
     "name": "stdout",
     "output_type": "stream",
     "text": [
      "              precision    recall  f1-score   support\n",
      "\n",
      "           0       1.00      1.00      1.00       249\n",
      "           1       0.00      0.00      0.00         1\n",
      "\n",
      "    accuracy                           1.00       250\n",
      "   macro avg       0.50      0.50      0.50       250\n",
      "weighted avg       0.99      1.00      0.99       250\n",
      "\n"
     ]
    }
   ],
   "source": [
    "print(classification_report(y_test,rf_yhat))"
   ]
  },
  {
   "cell_type": "markdown",
   "id": "ca979416",
   "metadata": {},
   "source": [
    "## XGBoost Classifier"
   ]
  },
  {
   "cell_type": "code",
   "execution_count": 55,
   "id": "8b98db81",
   "metadata": {},
   "outputs": [],
   "source": [
    "xgb = XGBClassifier(max_depth = 4)\n",
    "xgb.fit(X_train, y_train)\n",
    "xgb_yhat = xgb.predict(X_test)"
   ]
  },
  {
   "cell_type": "code",
   "execution_count": 49,
   "id": "496ee4dc",
   "metadata": {
    "scrolled": true
   },
   "outputs": [
    {
     "name": "stdout",
     "output_type": "stream",
     "text": [
      "Accuracy score of the XGBoost model is 0.996\n"
     ]
    }
   ],
   "source": [
    "print('Accuracy score of the XGBoost model is {}'.format(accuracy_score(y_test, xgb_yhat)))"
   ]
  },
  {
   "cell_type": "code",
   "execution_count": 50,
   "id": "c274d000",
   "metadata": {},
   "outputs": [
    {
     "name": "stdout",
     "output_type": "stream",
     "text": [
      "              precision    recall  f1-score   support\n",
      "\n",
      "           0       1.00      1.00      1.00       249\n",
      "           1       0.00      0.00      0.00         1\n",
      "\n",
      "    accuracy                           1.00       250\n",
      "   macro avg       0.50      0.50      0.50       250\n",
      "weighted avg       0.99      1.00      0.99       250\n",
      "\n"
     ]
    }
   ],
   "source": [
    "print(classification_report(y_test,xgb_yhat))"
   ]
  },
  {
   "cell_type": "markdown",
   "id": "92f908d7",
   "metadata": {},
   "source": [
    "# Deploying the Project"
   ]
  },
  {
   "cell_type": "code",
   "execution_count": 62,
   "id": "62cfe4a7",
   "metadata": {},
   "outputs": [],
   "source": [
    "import pickle\n",
    "with open('dts.pkl', 'wb') as file:\n",
    "    pickle.dump(xgb, file)"
   ]
  }
 ],
 "metadata": {
  "kernelspec": {
   "display_name": "Python 3 (ipykernel)",
   "language": "python",
   "name": "python3"
  },
  "language_info": {
   "codemirror_mode": {
    "name": "ipython",
    "version": 3
   },
   "file_extension": ".py",
   "mimetype": "text/x-python",
   "name": "python",
   "nbconvert_exporter": "python",
   "pygments_lexer": "ipython3",
   "version": "3.10.9"
  }
 },
 "nbformat": 4,
 "nbformat_minor": 5
}
